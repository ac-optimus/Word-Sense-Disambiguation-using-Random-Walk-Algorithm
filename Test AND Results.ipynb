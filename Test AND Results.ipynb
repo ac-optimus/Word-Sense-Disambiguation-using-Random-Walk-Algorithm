{
 "cells": [
  {
   "cell_type": "markdown",
   "metadata": {},
   "source": [
    "## Below are two examples of WSD using Random walk algorithm"
   ]
  },
  {
   "cell_type": "markdown",
   "metadata": {},
   "source": [
    "### Example-1"
   ]
  },
  {
   "cell_type": "code",
   "execution_count": 40,
   "metadata": {
    "collapsed": true
   },
   "outputs": [],
   "source": [
    "from nltk.corpus import wordnet as wn \n",
    "import networkx as nx\n",
    "import re\n",
    "from nltk.tokenize import word_tokenize\n",
    "from nltk.tokenize import RegexpTokenizer\n",
    "from helperFUn import leskSim, edge_weight, graph, senseAssignment\n",
    "from sys import argv\n",
    "import matplotlib.pyplot as plt"
   ]
  },
  {
   "cell_type": "code",
   "execution_count": 41,
   "metadata": {},
   "outputs": [
    {
     "name": "stdout",
     "output_type": "stream",
     "text": [
      "my : NA \n",
      "\n",
      "country : a particular geographical region of indefinite boundary (usually serving some special purpose or distinguished by its people or culture or geography) \n",
      "\n",
      "india : a republic in the Asian subcontinent in southern Asia; second most populous country in the world; achieved independence from the United Kingdom in 1947 \n",
      "\n"
     ]
    }
   ],
   "source": [
    "G=graph(\"my country india\")\n",
    "\n",
    "ranks = nx.pagerank(G,alpha=0.4)\n",
    "tokenizer = RegexpTokenizer(r'\\w+')\n",
    "s1=tokenizer.tokenize(\"my country india\")\n",
    "dict1={}\n",
    "for i in range(len(s1)):\n",
    "    dict1[i] = [str(k) for k in wn.synsets(s1[i])]  #all the word senses of i th word here\n",
    "    dict1[i] = [re.findall(r\"'(.*?)'\",o)[0] for o in dict1[i]]\n",
    "\n",
    "senseLst = senseAssignment(dict1,ranks)\n",
    "for i in range(len(dict1)):\n",
    "    print (s1[i],\":\",senseLst[i],\"\\n\")"
   ]
  },
  {
   "cell_type": "code",
   "execution_count": 42,
   "metadata": {},
   "outputs": [
    {
     "name": "stdout",
     "output_type": "stream",
     "text": [
      "my : [] \n",
      "\n",
      "country : ['state.n.04', 'country.n.02', 'nation.n.02', 'country.n.04', 'area.n.01'] \n",
      "\n",
      "india : ['india.n.01'] \n",
      "\n"
     ]
    }
   ],
   "source": [
    "#senses corresponding to each of the word\n",
    "for i in range(len(dict1)):\n",
    "    print (s1[i],\":\",dict1[i],\"\\n\")"
   ]
  },
  {
   "cell_type": "code",
   "execution_count": 43,
   "metadata": {},
   "outputs": [
    {
     "data": {
      "text/plain": [
       "{'state.n.04': 0.1403059170136816,\n",
       " 'country.n.02': 0.1403059170136816,\n",
       " 'nation.n.02': 0.15688744694909385,\n",
       " 'country.n.04': 0.10714285714285716,\n",
       " 'area.n.01': 0.1237243870782694,\n",
       " 'india.n.01': 0.3316334748024163}"
      ]
     },
     "execution_count": 43,
     "metadata": {},
     "output_type": "execute_result"
    }
   ],
   "source": [
    "#ranks of all the senses\n",
    "ranks"
   ]
  },
  {
   "cell_type": "code",
   "execution_count": 44,
   "metadata": {},
   "outputs": [
    {
     "data": {
      "image/png": "[encoded data removed]",
      "text/plain": [
       "<matplotlib.figure.Figure at 0x7fb03c262a58>"
      ]
     },
     "metadata": {},
     "output_type": "display_data"
    }
   ],
   "source": [
    "edges = [(u, v) for (u, v, d) in G.edges(data=True)]\n",
    "\n",
    "pos = nx.spring_layout(G)  # positions for all nodes\n",
    "\n",
    "# nodes\n",
    "nx.draw_networkx_nodes(G, pos, node_size=60)\n",
    "\n",
    "# edges\n",
    "nx.draw_networkx_edges(G, pos, edgelist=edges, width=1)\n",
    "\n",
    "nx.draw_networkx_labels(G, pos, font_size=2, font_family='sans-serif')\n",
    "\n",
    "plt.axis('off')\n",
    "plt.show()"
   ]
  },
  {
   "cell_type": "markdown",
   "metadata": {},
   "source": [
    "### Example -2"
   ]
  },
  {
   "cell_type": "code",
   "execution_count": 45,
   "metadata": {},
   "outputs": [
    {
     "name": "stdout",
     "output_type": "stream",
     "text": [
      "go : functioning correctly and ready for action \n",
      "\n",
      "to : NA \n",
      "\n",
      "the : NA \n",
      "\n",
      "river : a large natural stream of water (larger than a creek) \n",
      "\n",
      "bank : have confidence or faith in \n",
      "\n"
     ]
    }
   ],
   "source": [
    "G=graph(\"go to the river bank\")\n",
    "\n",
    "ranks = nx.pagerank(G)\n",
    "tokenizer = RegexpTokenizer(r'\\w+')\n",
    "s1=tokenizer.tokenize(\"go to the river bank\")\n",
    "dict1={}\n",
    "for i in range(len(s1)):\n",
    "    dict1[i] = [str(k) for k in wn.synsets(s1[i])]  #all the word senses of i th word here\n",
    "    dict1[i] = [re.findall(r\"'(.*?)'\",o)[0] for o in dict1[i]]\n",
    "\n",
    "senseLst = senseAssignment(dict1,ranks)\n",
    "for i in range(len(dict1)):\n",
    "    print (s1[i],\":\",senseLst[i],\"\\n\")"
   ]
  },
  {
   "cell_type": "code",
   "execution_count": 46,
   "metadata": {},
   "outputs": [
    {
     "name": "stdout",
     "output_type": "stream",
     "text": [
      "go : ['go.n.01', 'adam.n.03', 'crack.n.09', 'go.n.04', 'travel.v.01', 'go.v.02', 'go.v.03', 'become.v.01', 'go.v.05', 'run.v.05', 'run.v.03', 'proceed.v.04', 'go.v.09', 'go.v.10', 'sound.v.02', 'function.v.01', 'run_low.v.01', 'move.v.13', 'survive.v.01', 'go.v.16', 'die.v.01', 'belong.v.03', 'go.v.19', 'start.v.09', 'move.v.15', 'go.v.22', 'go.v.23', 'blend.v.02', 'go.v.25', 'fit.v.02', 'rifle.v.02', 'go.v.28', 'plump.v.04', 'fail.v.04', 'go.a.01'] \n",
      "\n",
      "to : [] \n",
      "\n",
      "the : [] \n",
      "\n",
      "river : ['river.n.01'] \n",
      "\n",
      "bank : ['bank.n.01', 'depository_financial_institution.n.01', 'bank.n.03', 'bank.n.04', 'bank.n.05', 'bank.n.06', 'bank.n.07', 'savings_bank.n.02', 'bank.n.09', 'bank.n.10', 'bank.v.01', 'bank.v.02', 'bank.v.03', 'bank.v.04', 'bank.v.05', 'deposit.v.02', 'bank.v.07', 'trust.v.01'] \n",
      "\n"
     ]
    }
   ],
   "source": [
    "#senses corresponding to each of the word\n",
    "for i in range(len(dict1)):\n",
    "    print (s1[i],\":\",dict1[i],\"\\n\")"
   ]
  },
  {
   "cell_type": "code",
   "execution_count": 47,
   "metadata": {},
   "outputs": [
    {
     "data": {
      "text/plain": [
       "{'go.n.01': 0.006912442396323654,\n",
       " 'adam.n.03': 0.006912442396323654,\n",
       " 'crack.n.09': 0.006912442396323654,\n",
       " 'go.n.04': 0.006912442396323654,\n",
       " 'travel.v.01': 0.006912442396323654,\n",
       " 'go.v.02': 0.006912442396323654,\n",
       " 'go.v.03': 0.006912442396323654,\n",
       " 'become.v.01': 0.006912442396323654,\n",
       " 'go.v.05': 0.006912442396323654,\n",
       " 'run.v.05': 0.006912442396323654,\n",
       " 'run.v.03': 0.006912442396323654,\n",
       " 'proceed.v.04': 0.006912442396323654,\n",
       " 'go.v.09': 0.006912442396323654,\n",
       " 'go.v.10': 0.006912442396323654,\n",
       " 'sound.v.02': 0.006912442396323654,\n",
       " 'function.v.01': 0.006912442396323654,\n",
       " 'run_low.v.01': 0.006912442396323654,\n",
       " 'move.v.13': 0.006912442396323654,\n",
       " 'survive.v.01': 0.006912442396323654,\n",
       " 'go.v.16': 0.006912442396323654,\n",
       " 'die.v.01': 0.006912442396323654,\n",
       " 'belong.v.03': 0.006912442396323654,\n",
       " 'go.v.19': 0.006912442396323654,\n",
       " 'start.v.09': 0.006912442396323654,\n",
       " 'move.v.15': 0.006912442396323654,\n",
       " 'go.v.22': 0.006912442396323654,\n",
       " 'go.v.23': 0.006912442396323654,\n",
       " 'blend.v.02': 0.006912442396323654,\n",
       " 'go.v.25': 0.006912442396323654,\n",
       " 'fit.v.02': 0.006912442396323654,\n",
       " 'rifle.v.02': 0.006912442396323654,\n",
       " 'go.v.28': 0.006912442396323654,\n",
       " 'plump.v.04': 0.006912442396323654,\n",
       " 'fail.v.04': 0.006912442396323654,\n",
       " 'go.a.01': 0.006912442396323654,\n",
       " 'river.n.01': 0.342497612353714,\n",
       " 'bank.n.01': 0.032601525394070616,\n",
       " 'depository_financial_institution.n.01': 0.02403849772815496,\n",
       " 'bank.n.03': 0.02403849772815496,\n",
       " 'bank.n.04': 0.032601525394070616,\n",
       " 'bank.n.05': 0.02403849772815496,\n",
       " 'bank.n.06': 0.02403849772815496,\n",
       " 'bank.n.07': 0.041164553059986266,\n",
       " 'savings_bank.n.02': 0.02403849772815496,\n",
       " 'bank.n.09': 0.032601525394070616,\n",
       " 'bank.n.10': 0.02403849772815496,\n",
       " 'bank.v.01': 0.006912442396323654,\n",
       " 'bank.v.02': 0.02403849772815496,\n",
       " 'bank.v.03': 0.02403849772815496,\n",
       " 'bank.v.04': 0.02403849772815496,\n",
       " 'bank.v.05': 0.006912442396323654,\n",
       " 'deposit.v.02': 0.02403849772815496,\n",
       " 'bank.v.07': 0.015475470062239307,\n",
       " 'trust.v.01': 0.006912442396323654}"
      ]
     },
     "execution_count": 47,
     "metadata": {},
     "output_type": "execute_result"
    }
   ],
   "source": [
    "#rank of senses in the graph\n",
    "ranks  "
   ]
  },
  {
   "cell_type": "code",
   "execution_count": 48,
   "metadata": {},
   "outputs": [
    {
     "data": {
      "image/png": "[encoded data removed]",
      "text/plain": [
       "<matplotlib.figure.Figure at 0x7fb03c021c88>"
      ]
     },
     "metadata": {},
     "output_type": "display_data"
    }
   ],
   "source": [
    "edges = [(u, v) for (u, v, d) in G.edges(data=True)]\n",
    "\n",
    "pos = nx.spring_layout(G)  # positions for all nodes\n",
    "\n",
    "# nodes\n",
    "nx.draw_networkx_nodes(G, pos, node_size=60)\n",
    "\n",
    "# edges\n",
    "nx.draw_networkx_edges(G, pos, edgelist=edges,width=1)\n",
    "\n",
    "nx.draw_networkx_labels(G, pos, font_size=2, font_family='sans-serif')\n",
    "\n",
    "plt.axis('off')\n",
    "plt.show()"
   ]
  }
 ],
 "metadata": {
  "kernelspec": {
   "display_name": "Python 3",
   "language": "python",
   "name": "python3"
  },
  "language_info": {
   "codemirror_mode": {
    "name": "ipython",
    "version": 3
   },
   "file_extension": ".py",
   "mimetype": "text/x-python",
   "name": "python",
   "nbconvert_exporter": "python",
   "pygments_lexer": "ipython3",
   "version": "3.6.3"
  }
 },
 "nbformat": 4,
 "nbformat_minor": 2
}
